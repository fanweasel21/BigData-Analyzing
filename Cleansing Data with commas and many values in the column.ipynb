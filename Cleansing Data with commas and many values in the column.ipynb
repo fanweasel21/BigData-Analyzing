{
 "cells": [
  {
   "cell_type": "code",
   "execution_count": null,
   "id": "7218a76c",
   "metadata": {},
   "outputs": [],
   "source": [
    "import numpy as np\n",
    "import pandas as pd"
   ]
  },
  {
   "cell_type": "code",
   "execution_count": null,
   "id": "f18c744d",
   "metadata": {},
   "outputs": [],
   "source": [
    "df = pd.read_excel(\"\", index_col='')"
   ]
  },
  {
   "cell_type": "code",
   "execution_count": null,
   "id": "eea8faed",
   "metadata": {},
   "outputs": [],
   "source": [
    "def isNaN(string):\n",
    "    return string != string"
   ]
  },
  {
   "cell_type": "markdown",
   "id": "4a643d6a",
   "metadata": {},
   "source": [
    "## Edition"
   ]
  },
  {
   "cell_type": "code",
   "execution_count": null,
   "id": "6e5617ef",
   "metadata": {},
   "outputs": [],
   "source": [
    "# Making Lists of values you want to edit\n",
    "# I made an excel file to make it easy, but it just has to be in a list format just as [['1','2','3','4'], ['5','6','7','8']]\n",
    "edit = pd.read_excel('', #skiprows=[0,1], usecols=[0,1,2,3])\n",
    "edit = edit.loc[]\n",
    "edit = edit.values.tolist()\n",
    "edit"
   ]
  },
  {
   "cell_type": "markdown",
   "id": "20684183",
   "metadata": {},
   "source": [
    "## Addition"
   ]
  },
  {
   "cell_type": "code",
   "execution_count": null,
   "id": "53adedab",
   "metadata": {
    "scrolled": true
   },
   "outputs": [],
   "source": [
    "# Making Lists of values you want to add to a certain cell\n",
    "# I made an excel file to make it easy, but it just has to be in a list format just as [['1','2','3','4'], ['5','6','7','8']]\n",
    "add = pd.read_excel('', #skiprows=[0,1], usecols=[15,16,17])\n",
    "add = add.loc[]\n",
    "add = add.values.tolist()\n",
    "add"
   ]
  },
  {
   "cell_type": "markdown",
   "id": "2e165dfc",
   "metadata": {},
   "source": [
    "## Code for Edition"
   ]
  },
  {
   "cell_type": "code",
   "execution_count": null,
   "id": "7b019b0c",
   "metadata": {},
   "outputs": [],
   "source": [
    "def xxx_change(w,x,y,z):\n",
    "    \"\"\"\n",
    "    w, x, y, z = str\n",
    "    \n",
    "    if you have value x included in column w, you want to change the y value in column [xxx] to z\n",
    "    change the xxx value to value you want\n",
    "    \n",
    "    \"\"\"\n",
    "    new_df = df[df[w].str.contains(x, na=False)]\n",
    "\n",
    "    new_idx = new_df.index.tolist()\n",
    "\n",
    "    new_list = new_df[xxx].tolist()\n",
    "\n",
    "    for i, j in enumerate(new_list):\n",
    "        if isNaN(j):\n",
    "            new_list[i] = z\n",
    "        elif z in j:\n",
    "            pass\n",
    "        else:\n",
    "            new_list[i] = j.replace(y,z)\n",
    "        \n",
    "    for i, j in zip(new_idx, new_list):\n",
    "        df.loc[i, xxx] = j"
   ]
  },
  {
   "cell_type": "code",
   "execution_count": null,
   "id": "d35ce82d",
   "metadata": {},
   "outputs": [],
   "source": [
    "# Run\n",
    "for i in range(len(edit)):\n",
    "    xxx_change(edit[i][0], edit[i][1], edit[i][2], edit[i][3])"
   ]
  },
  {
   "cell_type": "markdown",
   "id": "711134a1",
   "metadata": {},
   "source": [
    "## Code for Addition"
   ]
  },
  {
   "cell_type": "code",
   "execution_count": null,
   "id": "c76b83ed",
   "metadata": {},
   "outputs": [],
   "source": [
    "def yyy_add(x,y,z):\n",
    "    \"\"\"\n",
    "    x, y, z = str\n",
    "    \n",
    "    if you have y value in column x, you want to add z value to the cell in column yyy\n",
    "    change the yyy value to the value you want\n",
    "    \"\"\"\n",
    "    new_df = df[df[x].str.contains(y, na=False)]\n",
    "\n",
    "    new_idx = new_df.index.tolist()\n",
    "\n",
    "    new_list = new_df[yyy].tolist()\n",
    "\n",
    "    \n",
    "    for i, j in enumerate(new_list):\n",
    "        if isNaN(j):\n",
    "            new_list[i] = z\n",
    "        elif z in j:\n",
    "            pass\n",
    "        else:\n",
    "            new_list[i] = j + \", {}\".format(z)\n",
    "        \n",
    "        print(\"j: {0}, new list: {1}\".format(j, new_list[i]))\n",
    "        \n",
    "    for i, j in zip(new_idx, new_list):\n",
    "        df.loc[i, yyy] = j\n",
    "    "
   ]
  },
  {
   "cell_type": "code",
   "execution_count": null,
   "id": "aed72df8",
   "metadata": {},
   "outputs": [],
   "source": [
    "# Run\n",
    "for i in range(len(op_add)):\n",
    "    yyy_add(yyy_add[i][0], yyy_add[i][1], yyy_add[i][2])"
   ]
  },
  {
   "cell_type": "code",
   "execution_count": null,
   "id": "05aea0cb",
   "metadata": {},
   "outputs": [],
   "source": []
  },
  {
   "cell_type": "code",
   "execution_count": null,
   "id": "4b26eb4a",
   "metadata": {},
   "outputs": [],
   "source": []
  },
  {
   "cell_type": "code",
   "execution_count": null,
   "id": "f48938d5",
   "metadata": {},
   "outputs": [],
   "source": [
    "df.to_excel(\"\")"
   ]
  },
  {
   "cell_type": "code",
   "execution_count": null,
   "id": "2c20d432",
   "metadata": {},
   "outputs": [],
   "source": []
  },
  {
   "cell_type": "code",
   "execution_count": null,
   "id": "db9aabd8",
   "metadata": {},
   "outputs": [],
   "source": []
  },
  {
   "cell_type": "code",
   "execution_count": null,
   "id": "bfece130",
   "metadata": {},
   "outputs": [],
   "source": []
  },
  {
   "cell_type": "code",
   "execution_count": null,
   "id": "a38cf2e2",
   "metadata": {},
   "outputs": [],
   "source": []
  }
 ],
 "metadata": {
  "kernelspec": {
   "display_name": "Python 3",
   "language": "python",
   "name": "python3"
  },
  "language_info": {
   "codemirror_mode": {
    "name": "ipython",
    "version": 3
   },
   "file_extension": ".py",
   "mimetype": "text/x-python",
   "name": "python",
   "nbconvert_exporter": "python",
   "pygments_lexer": "ipython3",
   "version": "3.7.10"
  }
 },
 "nbformat": 4,
 "nbformat_minor": 5
}
